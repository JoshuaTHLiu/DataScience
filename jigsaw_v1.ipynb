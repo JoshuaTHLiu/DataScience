{
 "cells": [
  {
   "cell_type": "code",
   "execution_count": 69,
   "metadata": {},
   "outputs": [],
   "source": [
    "import keras.backend as K\n",
    "from keras.layers import Input, Dense, Conv2D, Conv1D, LSTM, Embedding, MaxPooling1D, GlobalMaxPooling1D, BatchNormalization, Dropout\n",
    "from keras.models import Model\n",
    "from keras.optimizers import Adam, SGD\n",
    "from keras.regularizers import l2,l1\n",
    "from keras.preprocessing.text import Tokenizer\n",
    "from keras.preprocessing.sequence import pad_sequences\n",
    "from keras.callbacks import Callback\n",
    "from sklearn.metrics import roc_auc_score\n",
    "from sklearn.model_selection import train_test_split\n",
    "import tensorflow as tf\n",
    "import numpy as np\n",
    "import pandas as pd\n",
    "import matplotlib.pyplot as plt"
   ]
  },
  {
   "cell_type": "code",
   "execution_count": 25,
   "metadata": {},
   "outputs": [
    {
     "name": "stdout",
     "output_type": "stream",
     "text": [
      "id target comment_text severe_toxicity obscene identity_attack insult threat asian atheist bisexual black buddhist christian female heterosexual hindu homosexual_gay_or_lesbian intellectual_or_learning_disability jewish latino male muslim other_disability other_gender other_race_or_ethnicity other_religion other_sexual_orientation physical_disability psychiatric_or_mental_illness transgender white created_date publication_id parent_id article_id rating funny wow sad likes disagree sexual_explicit identity_annotator_count toxicity_annotator_count\n"
     ]
    }
   ],
   "source": [
    "##### READ DATA FILES #####\n",
    "x_train = pd.read_csv('./train.csv')\n",
    "print(' '.join(train.columns.values))\n",
    "###########################"
   ]
  },
  {
   "cell_type": "code",
   "execution_count": 32,
   "metadata": {},
   "outputs": [],
   "source": [
    "x_train['word_count'] = x_train.comment_text.apply(lambda x: len(str(x).split(' ')))\n",
    "x_train['is_toxic'] = x_train.target >= 0.5"
   ]
  },
  {
   "cell_type": "code",
   "execution_count": 34,
   "metadata": {},
   "outputs": [
    {
     "name": "stdout",
     "output_type": "stream",
     "text": [
      "1804874\n",
      "mean word count 51.86124017521445\n",
      "median word count 35.0\n"
     ]
    },
    {
     "data": {
      "image/png": "[encoded data removed]",
      "text/plain": [
       "<Figure size 432x288 with 1 Axes>"
      ]
     },
     "metadata": {},
     "output_type": "display_data"
    },
    {
     "data": {
      "image/png": "[encoded data removed]",
      "text/plain": [
       "<Figure size 432x288 with 1 Axes>"
      ]
     },
     "metadata": {},
     "output_type": "display_data"
    }
   ],
   "source": [
    "##### SEE DATA FILES #####\n",
    "print(len(x_train))\n",
    "plt.hist(x_train.target)\n",
    "plt.figure()\n",
    "plt.hist(x_train.word_count)\n",
    "print('mean word count', np.mean(x_train.word_count))\n",
    "print('median word count', np.median(x_train.word_count))\n",
    "#for name, group in x_train.groupby('rating'):\n",
    "#    print(name, np.mean(group.target))\n",
    "#for col in x_train.columns:\n",
    "#    print(col, np.sum(x_train[col] == 0.0) / len(x_train))\n",
    "###########################"
   ]
  },
  {
   "cell_type": "code",
   "execution_count": 28,
   "metadata": {},
   "outputs": [],
   "source": [
    "#https://medium.com/@nehabhangale/toxic-comment-classification-models-comparison-and-selection-6c02add9d39f\n",
    "# Tokenize and Pad\n",
    "# Create tokenizer\n",
    "tokenizer = Tokenizer(num_words=None,\n",
    "                      filters='!\"#$%&()*+,-./:;<=>?@[\\\\]^_`{|}~\\t\\n',\n",
    "                      lower=True,\n",
    "                      split=\" \",\n",
    "                      char_level=False)\n",
    "# Fit and run tokenizer\n",
    "tokenizer.fit_on_texts(list(x_train.comment_text))\n",
    "tokenized_train = tokenizer.texts_to_sequences(x_train.comment_text)\n",
    "#tokenized_test = tokenizer.texts_to_sequences(x_test)\n",
    "word_index = tokenizer.word_index"
   ]
  },
  {
   "cell_type": "code",
   "execution_count": 31,
   "metadata": {},
   "outputs": [
    {
     "data": {
      "text/plain": [
       "(397709, 300)"
      ]
     },
     "execution_count": 31,
     "metadata": {},
     "output_type": "execute_result"
    }
   ],
   "source": [
    "embedding_dim = 300\n",
    "# Get embeddings\n",
    "embeddings_index = {}\n",
    "f = open('./glove.840B.300d.txt', encoding=\"utf8\")\n",
    "for line in f:\n",
    "    values = line.rstrip().rsplit(' ', embedding_dim)\n",
    "    word = values[0]\n",
    "    coefs = np.asarray(values[1:], dtype='float32')\n",
    "    embeddings_index[word] = coefs\n",
    "f.close()\n",
    "\n",
    "# Build embedding matrix\n",
    "embedding_matrix = np.zeros((len(word_index) + 1, embedding_dim))\n",
    "for word, i in word_index.items():\n",
    "    embedding_vector = embeddings_index.get(word)\n",
    "    if embedding_vector is not None:\n",
    "        # Words not found in embedding index will be all-zeros.\n",
    "        embedding_matrix[i] = embedding_vector\n",
    "\n",
    "vocab_size = len(embedding_matrix)\n",
    "print('vocab', vocab_size)"
   ]
  },
  {
   "cell_type": "code",
   "execution_count": 85,
   "metadata": {},
   "outputs": [],
   "source": [
    "max_len = 200\n",
    "num_classes = 1\n",
    "inputs = Input((max_len,))\n",
    "# Add Embedding layer\n",
    "embed = Embedding(vocab_size, embedding_dim, weights=[embedding_matrix], input_length=max_len, trainable=False)(inputs)\n",
    "# Add Convolutional layer\n",
    "x = Conv1D(filters=128, kernel_size=5, padding='same', activation='relu')(embed)\n",
    "x = MaxPooling1D(3)(x)\n",
    "x = GlobalMaxPooling1D()(x)\n",
    "x = BatchNormalization()(x)\n",
    "# Add fully connected layers\n",
    "x = Dense(50, activation='relu')(x)\n",
    "x = Dropout(0.3)(x)\n",
    "x = Dense(num_classes, activation='sigmoid')(x)\n",
    "# Initiate model\n",
    "model = Model(inputs=inputs, outputs=x)"
   ]
  },
  {
   "cell_type": "code",
   "execution_count": 86,
   "metadata": {},
   "outputs": [
    {
     "name": "stdout",
     "output_type": "stream",
     "text": [
      "_________________________________________________________________\n",
      "Layer (type)                 Output Shape              Param #   \n",
      "=================================================================\n",
      "input_8 (InputLayer)         (None, 200)               0         \n",
      "_________________________________________________________________\n",
      "embedding_6 (Embedding)      (None, 200, 300)          119312700 \n",
      "_________________________________________________________________\n",
      "conv1d_5 (Conv1D)            (None, 200, 128)          192128    \n",
      "_________________________________________________________________\n",
      "max_pooling1d_4 (MaxPooling1 (None, 66, 128)           0         \n",
      "_________________________________________________________________\n",
      "global_max_pooling1d_4 (Glob (None, 128)               0         \n",
      "_________________________________________________________________\n",
      "batch_normalization_4 (Batch (None, 128)               512       \n",
      "_________________________________________________________________\n",
      "dense_6 (Dense)              (None, 50)                6450      \n",
      "_________________________________________________________________\n",
      "dropout_3 (Dropout)          (None, 50)                0         \n",
      "_________________________________________________________________\n",
      "dense_7 (Dense)              (None, 1)                 51        \n",
      "=================================================================\n",
      "Total params: 119,511,841\n",
      "Trainable params: 198,885\n",
      "Non-trainable params: 119,312,956\n",
      "_________________________________________________________________\n"
     ]
    }
   ],
   "source": [
    "model.summary()"
   ]
  },
  {
   "cell_type": "code",
   "execution_count": null,
   "metadata": {},
   "outputs": [],
   "source": [
    "class RocAucEvaluation(Callback):\n",
    "    def __init__(self, filepath, validation_data=(), interval=1, max_epoch = 100):\n",
    "        super(Callback, self).__init__()\n",
    "        # Initialize state variables\n",
    "        self.interval = interval\n",
    "        self.filepath = filepath\n",
    "        self.stopped_epoch = max_epoch\n",
    "        self.best = 0\n",
    "        self.X_val, self.y_val = validation_data\n",
    "        self.y_pred = np.zeros(self.y_val.shape)\n",
    "\n",
    "    def on_epoch_end(self, epoch, logs={}):\n",
    "        if epoch % self.interval == 0:\n",
    "            y_pred = self.model.predict_proba(self.X_val, verbose=0)\n",
    "            current = roc_auc_score(self.y_val, y_pred)\n",
    "            logs['roc_auc_val'] = current\n",
    "\n",
    "            if current > self.best: #save model\n",
    "                print(\" - AUC - improved from {:.5f} to {:.5f}\".format(self.best, current))\n",
    "                self.best = current\n",
    "                self.y_pred = y_pred\n",
    "                self.stopped_epoch = epoch+1\n",
    "                self.model.save(self.filepath, overwrite=True)\n",
    "            else:\n",
    "                print(\" - AUC - did not improve\")"
   ]
  },
  {
   "cell_type": "code",
   "execution_count": 87,
   "metadata": {},
   "outputs": [],
   "source": [
    "model.compile(optimizer=Adam(), loss='binary_crossentropy', metrics=['acc'])"
   ]
  },
  {
   "cell_type": "code",
   "execution_count": null,
   "metadata": {},
   "outputs": [],
   "source": [
    "X_train, X_test, y_train, y_test = train_test_split(tokenized_train, x_train.target,\n",
    "                                                    test_size=0.2, random_state=1, shuffle=True, stratify=x_train.is_toxic)\n",
    "\n",
    "processed_X_train = pad_sequences(X_train, maxlen=max_len, padding='post', truncating='post')\n",
    "processed_X_test = pad_sequences(X_test, maxlen=max_len, padding='post', truncating='post')"
   ]
  },
  {
   "cell_type": "code",
   "execution_count": null,
   "metadata": {},
   "outputs": [
    {
     "name": "stdout",
     "output_type": "stream",
     "text": [
      "Train on 1443899 samples, validate on 360975 samples\n",
      "Epoch 1/1\n",
      " 697872/1443899 [=============>................] - ETA: 1:13:30 - loss: 0.2529 - acc: 0.6995"
     ]
    }
   ],
   "source": [
    "model.fit(processed_X_train, y_train, batch_size=124, epochs=1, verbose=1, callbacks=None, \n",
    "          validation_data=(processed_X_test, y_test), shuffle=True, initial_epoch=0)"
   ]
  },
  {
   "cell_type": "code",
   "execution_count": null,
   "metadata": {},
   "outputs": [],
   "source": [
    "#http://openaccess.thecvf.com/content_ICCV_2017/papers/Lin_Focal_Loss_for_ICCV_2017_paper.pdf\n",
    "def focal_loss(alpha=0.25, gamma=2.0):\n",
    "    def loss(y_true, y_pred):\n",
    "        pos = - alpha * K.pow(1.0 - y_pred, gamma) * K.log(y_pred)\n",
    "        pos = y_true * pos\n",
    "        neg = - alpha * K.pow(y_pred, gamma) * K.log(1.0 - y_pred)\n",
    "        neg = (1.0 - y_true) * neg\n",
    "        return pos + neg\n",
    "    return loss\n",
    "\n",
    "#initialize the bias\n",
    "pi = 0.01\n",
    "bias = -np.log((1-pi)/pi)\n",
    "w0 = model.layers[-1].get_weights()\n",
    "model.layers[-1].set_weights([w0[0], bias])"
   ]
  }
 ],
 "metadata": {
  "kernelspec": {
   "display_name": "Python 3",
   "language": "python",
   "name": "python3"
  },
  "language_info": {
   "codemirror_mode": {
    "name": "ipython",
    "version": 3
   },
   "file_extension": ".py",
   "mimetype": "text/x-python",
   "name": "python",
   "nbconvert_exporter": "python",
   "pygments_lexer": "ipython3",
   "version": "3.6.4"
  }
 },
 "nbformat": 4,
 "nbformat_minor": 2
}
